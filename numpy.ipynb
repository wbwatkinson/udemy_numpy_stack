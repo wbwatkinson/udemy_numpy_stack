{
  "nbformat": 4,
  "nbformat_minor": 0,
  "metadata": {
    "colab": {
      "name": "numpy.ipynb",
      "provenance": [],
      "toc_visible": true,
      "authorship_tag": "ABX9TyP9Tez9auiE45GMv0rpI0UV",
      "include_colab_link": true
    },
    "kernelspec": {
      "name": "python3",
      "display_name": "Python 3"
    }
  },
  "cells": [
    {
      "cell_type": "markdown",
      "metadata": {
        "id": "view-in-github",
        "colab_type": "text"
      },
      "source": [
        "<a href=\"https://colab.research.google.com/github/wbwatkinson/udemy_numpy_stack/blob/main/numpy.ipynb\" target=\"_parent\"><img src=\"https://colab.research.google.com/assets/colab-badge.svg\" alt=\"Open In Colab\"/></a>"
      ]
    },
    {
      "cell_type": "markdown",
      "metadata": {
        "id": "v3UUQkVko68G"
      },
      "source": [
        "Section 1 of:\n",
        "\n",
        "https://www.udemy.com/deep-learning-prerequisites-the-numpy-stack-in-python/\n",
        "\n",
        "https://deeplearningcourses.com/c/deep-learning-prerequisites-the-numpy-stack-in-python"
      ]
    },
    {
      "cell_type": "markdown",
      "metadata": {
        "id": "Qppj_nuWLj5x"
      },
      "source": [
        "## Arrays vs Lists"
      ]
    },
    {
      "cell_type": "code",
      "metadata": {
        "id": "2YWtop3oo3jK"
      },
      "source": [
        "import numpy as np"
      ],
      "execution_count": 21,
      "outputs": []
    },
    {
      "cell_type": "code",
      "metadata": {
        "id": "CYf8KIrKpDlp"
      },
      "source": [
        "L = [1,2,3]"
      ],
      "execution_count": 22,
      "outputs": []
    },
    {
      "cell_type": "code",
      "metadata": {
        "id": "AABDVAM-pKqw"
      },
      "source": [
        "A = np.array([1,2,3])"
      ],
      "execution_count": 23,
      "outputs": []
    },
    {
      "cell_type": "code",
      "metadata": {
        "id": "hYwR2_RepN6D",
        "colab": {
          "base_uri": "https://localhost:8080/"
        },
        "outputId": "7b89f7de-9833-416d-bbed-878131d1ebb5"
      },
      "source": [
        "for e in L:\n",
        "  print(e)"
      ],
      "execution_count": 24,
      "outputs": [
        {
          "output_type": "stream",
          "text": [
            "1\n",
            "2\n",
            "3\n"
          ],
          "name": "stdout"
        }
      ]
    },
    {
      "cell_type": "code",
      "metadata": {
        "id": "l3N31fTspP4B",
        "colab": {
          "base_uri": "https://localhost:8080/"
        },
        "outputId": "c6a84bcf-c712-44fb-d09d-75d91c838800"
      },
      "source": [
        "for e in A:\n",
        "  print(e)"
      ],
      "execution_count": 25,
      "outputs": [
        {
          "output_type": "stream",
          "text": [
            "1\n",
            "2\n",
            "3\n"
          ],
          "name": "stdout"
        }
      ]
    },
    {
      "cell_type": "code",
      "metadata": {
        "id": "L_WURu4epSm6"
      },
      "source": [
        "L.append(4)"
      ],
      "execution_count": 26,
      "outputs": []
    },
    {
      "cell_type": "code",
      "metadata": {
        "id": "fDsd-UBXpXNU",
        "colab": {
          "base_uri": "https://localhost:8080/"
        },
        "outputId": "eb2d3cf1-1463-48ca-ecdf-cd02a5ed340e"
      },
      "source": [
        "L"
      ],
      "execution_count": 27,
      "outputs": [
        {
          "output_type": "execute_result",
          "data": {
            "text/plain": [
              "[1, 2, 3, 4]"
            ]
          },
          "metadata": {
            "tags": []
          },
          "execution_count": 27
        }
      ]
    },
    {
      "cell_type": "code",
      "metadata": {
        "id": "8DP73J3KpYH7"
      },
      "source": [
        "# A.append(4) # doesn't work"
      ],
      "execution_count": 28,
      "outputs": []
    },
    {
      "cell_type": "code",
      "metadata": {
        "id": "beoI6SsCpbQW",
        "colab": {
          "base_uri": "https://localhost:8080/"
        },
        "outputId": "91afe468-72e0-41ea-8028-4f6fe4d824c1"
      },
      "source": [
        "L + [5]"
      ],
      "execution_count": 29,
      "outputs": [
        {
          "output_type": "execute_result",
          "data": {
            "text/plain": [
              "[1, 2, 3, 4, 5]"
            ]
          },
          "metadata": {
            "tags": []
          },
          "execution_count": 29
        }
      ]
    },
    {
      "cell_type": "code",
      "metadata": {
        "id": "UodzHCvUphsg",
        "colab": {
          "base_uri": "https://localhost:8080/"
        },
        "outputId": "02254c3d-ae52-4326-dfac-1cdddd42eb49"
      },
      "source": [
        "A + np.array([4])"
      ],
      "execution_count": 30,
      "outputs": [
        {
          "output_type": "execute_result",
          "data": {
            "text/plain": [
              "array([5, 6, 7])"
            ]
          },
          "metadata": {
            "tags": []
          },
          "execution_count": 30
        }
      ]
    },
    {
      "cell_type": "code",
      "metadata": {
        "id": "NQeDCZ9fpl3M",
        "colab": {
          "base_uri": "https://localhost:8080/"
        },
        "outputId": "fd233826-6415-4e9f-eeee-6f9d1464e226"
      },
      "source": [
        "A + np.array([4,5,6])"
      ],
      "execution_count": 31,
      "outputs": [
        {
          "output_type": "execute_result",
          "data": {
            "text/plain": [
              "array([5, 7, 9])"
            ]
          },
          "metadata": {
            "tags": []
          },
          "execution_count": 31
        }
      ]
    },
    {
      "cell_type": "code",
      "metadata": {
        "id": "FvYRdkbHppDf"
      },
      "source": [
        "# A + np.array([4,5]) # doesn't work"
      ],
      "execution_count": 32,
      "outputs": []
    },
    {
      "cell_type": "code",
      "metadata": {
        "id": "MS2n4LxVpr6b",
        "colab": {
          "base_uri": "https://localhost:8080/"
        },
        "outputId": "46224825-e0a0-473b-feff-1e8552b0b9f3"
      },
      "source": [
        "2 * A"
      ],
      "execution_count": 33,
      "outputs": [
        {
          "output_type": "execute_result",
          "data": {
            "text/plain": [
              "array([2, 4, 6])"
            ]
          },
          "metadata": {
            "tags": []
          },
          "execution_count": 33
        }
      ]
    },
    {
      "cell_type": "code",
      "metadata": {
        "id": "zO4USxRzptgs",
        "colab": {
          "base_uri": "https://localhost:8080/"
        },
        "outputId": "61656dfd-ecb0-4240-fef6-17c3d615055c"
      },
      "source": [
        "2 * L"
      ],
      "execution_count": 34,
      "outputs": [
        {
          "output_type": "execute_result",
          "data": {
            "text/plain": [
              "[1, 2, 3, 4, 1, 2, 3, 4]"
            ]
          },
          "metadata": {
            "tags": []
          },
          "execution_count": 34
        }
      ]
    },
    {
      "cell_type": "code",
      "metadata": {
        "id": "LtLSqZgipu-P",
        "colab": {
          "base_uri": "https://localhost:8080/"
        },
        "outputId": "a01bb15b-6005-4f93-d01a-863df8046c72"
      },
      "source": [
        "L + L"
      ],
      "execution_count": 35,
      "outputs": [
        {
          "output_type": "execute_result",
          "data": {
            "text/plain": [
              "[1, 2, 3, 4, 1, 2, 3, 4]"
            ]
          },
          "metadata": {
            "tags": []
          },
          "execution_count": 35
        }
      ]
    },
    {
      "cell_type": "code",
      "metadata": {
        "id": "RJ11NZkSp13o"
      },
      "source": [
        "L2 = []\n",
        "for e in L:\n",
        "  L2.append(e + 3)"
      ],
      "execution_count": 36,
      "outputs": []
    },
    {
      "cell_type": "code",
      "metadata": {
        "id": "ZgtqoSvIp4va",
        "colab": {
          "base_uri": "https://localhost:8080/"
        },
        "outputId": "19cd2d8b-b77b-4a9e-8d36-46ec492904fe"
      },
      "source": [
        "L2"
      ],
      "execution_count": 37,
      "outputs": [
        {
          "output_type": "execute_result",
          "data": {
            "text/plain": [
              "[4, 5, 6, 7]"
            ]
          },
          "metadata": {
            "tags": []
          },
          "execution_count": 37
        }
      ]
    },
    {
      "cell_type": "code",
      "metadata": {
        "id": "GZCQEk-Rp7gx"
      },
      "source": [
        "L2 = [e + 3 for e in L]"
      ],
      "execution_count": 38,
      "outputs": []
    },
    {
      "cell_type": "code",
      "metadata": {
        "id": "McUAtUVep960",
        "colab": {
          "base_uri": "https://localhost:8080/"
        },
        "outputId": "40923fe7-7351-495c-ed00-84ceaaa1508b"
      },
      "source": [
        "L2"
      ],
      "execution_count": 39,
      "outputs": [
        {
          "output_type": "execute_result",
          "data": {
            "text/plain": [
              "[4, 5, 6, 7]"
            ]
          },
          "metadata": {
            "tags": []
          },
          "execution_count": 39
        }
      ]
    },
    {
      "cell_type": "code",
      "metadata": {
        "id": "vcy3WKcwp-wi"
      },
      "source": [
        "L2 = []\n",
        "for e in L:\n",
        "  L2.append(e**2)"
      ],
      "execution_count": 40,
      "outputs": []
    },
    {
      "cell_type": "code",
      "metadata": {
        "id": "1Emx-hN_qDa2",
        "colab": {
          "base_uri": "https://localhost:8080/"
        },
        "outputId": "6652ebb9-f3e2-4bc4-de17-e4e2aa570434"
      },
      "source": [
        "L2"
      ],
      "execution_count": 41,
      "outputs": [
        {
          "output_type": "execute_result",
          "data": {
            "text/plain": [
              "[1, 4, 9, 16]"
            ]
          },
          "metadata": {
            "tags": []
          },
          "execution_count": 41
        }
      ]
    },
    {
      "cell_type": "code",
      "metadata": {
        "id": "blVB8cA9qERt",
        "colab": {
          "base_uri": "https://localhost:8080/"
        },
        "outputId": "068e76a8-28be-4349-f5a5-eb7d6ad0237a"
      },
      "source": [
        "A**2"
      ],
      "execution_count": 42,
      "outputs": [
        {
          "output_type": "execute_result",
          "data": {
            "text/plain": [
              "array([1, 4, 9])"
            ]
          },
          "metadata": {
            "tags": []
          },
          "execution_count": 42
        }
      ]
    },
    {
      "cell_type": "code",
      "metadata": {
        "id": "gDfVRJ5fqGPV",
        "colab": {
          "base_uri": "https://localhost:8080/"
        },
        "outputId": "e0095d4e-293c-4412-86b0-7f12197ff800"
      },
      "source": [
        "np.sqrt(A)"
      ],
      "execution_count": 43,
      "outputs": [
        {
          "output_type": "execute_result",
          "data": {
            "text/plain": [
              "array([1.        , 1.41421356, 1.73205081])"
            ]
          },
          "metadata": {
            "tags": []
          },
          "execution_count": 43
        }
      ]
    },
    {
      "cell_type": "code",
      "metadata": {
        "id": "yUwFM2OhqHwq",
        "colab": {
          "base_uri": "https://localhost:8080/"
        },
        "outputId": "b067fc73-73f1-4fd4-e44f-726e20e6e0fa"
      },
      "source": [
        "np.log(A)"
      ],
      "execution_count": 44,
      "outputs": [
        {
          "output_type": "execute_result",
          "data": {
            "text/plain": [
              "array([0.        , 0.69314718, 1.09861229])"
            ]
          },
          "metadata": {
            "tags": []
          },
          "execution_count": 44
        }
      ]
    },
    {
      "cell_type": "code",
      "metadata": {
        "id": "vlF9GWxzqIpd",
        "colab": {
          "base_uri": "https://localhost:8080/"
        },
        "outputId": "df42915c-ccb7-41cc-f3b7-bc6af0aca31c"
      },
      "source": [
        "np.exp(A)"
      ],
      "execution_count": 45,
      "outputs": [
        {
          "output_type": "execute_result",
          "data": {
            "text/plain": [
              "array([ 2.71828183,  7.3890561 , 20.08553692])"
            ]
          },
          "metadata": {
            "tags": []
          },
          "execution_count": 45
        }
      ]
    },
    {
      "cell_type": "code",
      "metadata": {
        "id": "pPvbPZB6qJq2",
        "colab": {
          "base_uri": "https://localhost:8080/"
        },
        "outputId": "0f90d219-bc85-4cfd-853c-ae2c0282f4cd"
      },
      "source": [
        "np.tanh(A)"
      ],
      "execution_count": 46,
      "outputs": [
        {
          "output_type": "execute_result",
          "data": {
            "text/plain": [
              "array([0.76159416, 0.96402758, 0.99505475])"
            ]
          },
          "metadata": {
            "tags": []
          },
          "execution_count": 46
        }
      ]
    },
    {
      "cell_type": "markdown",
      "metadata": {
        "id": "bITmEpM7LszR"
      },
      "source": [
        "## The Dot Product"
      ]
    },
    {
      "cell_type": "markdown",
      "metadata": {
        "id": "OJa5nyifvA-j"
      },
      "source": [
        "$$ a \\cdot b = a^T b = \\sum_{d=1}^D a_d b_d $$"
      ]
    },
    {
      "cell_type": "code",
      "metadata": {
        "id": "JnZ_vWW4qMTE"
      },
      "source": [
        "a = np.array([1,2])\n",
        "b = np.array([3,4])"
      ],
      "execution_count": 47,
      "outputs": []
    },
    {
      "cell_type": "code",
      "metadata": {
        "id": "bdD4Vzm3ryuR",
        "colab": {
          "base_uri": "https://localhost:8080/"
        },
        "outputId": "f5f8e271-5025-46da-c8c9-a414613061f1"
      },
      "source": [
        "dot = 0\n",
        "for e, f in zip(a, b):\n",
        "  dot += e*f\n",
        "dot"
      ],
      "execution_count": 48,
      "outputs": [
        {
          "output_type": "execute_result",
          "data": {
            "text/plain": [
              "11"
            ]
          },
          "metadata": {
            "tags": []
          },
          "execution_count": 48
        }
      ]
    },
    {
      "cell_type": "code",
      "metadata": {
        "id": "efUGU3ZNEH9T",
        "colab": {
          "base_uri": "https://localhost:8080/"
        },
        "outputId": "7e220c59-a5a0-45f0-a7a2-3f0459a150aa"
      },
      "source": [
        "# use integer index\n",
        "dot = 0\n",
        "for i in range(len(a)):\n",
        "  dot += a[i] * b[i]\n",
        "dot"
      ],
      "execution_count": 49,
      "outputs": [
        {
          "output_type": "execute_result",
          "data": {
            "text/plain": [
              "11"
            ]
          },
          "metadata": {
            "tags": []
          },
          "execution_count": 49
        }
      ]
    },
    {
      "cell_type": "code",
      "metadata": {
        "id": "O8BdMMpxr6F_",
        "colab": {
          "base_uri": "https://localhost:8080/"
        },
        "outputId": "99f5b0ad-aa04-43e5-d8c0-08fbf0e344d1"
      },
      "source": [
        "a * b"
      ],
      "execution_count": 50,
      "outputs": [
        {
          "output_type": "execute_result",
          "data": {
            "text/plain": [
              "array([3, 8])"
            ]
          },
          "metadata": {
            "tags": []
          },
          "execution_count": 50
        }
      ]
    },
    {
      "cell_type": "code",
      "metadata": {
        "id": "E_Msua0sr_Tz",
        "colab": {
          "base_uri": "https://localhost:8080/"
        },
        "outputId": "f2eac19b-054d-4b8f-fe95-52fff3460530"
      },
      "source": [
        "np.sum(a * b)"
      ],
      "execution_count": 51,
      "outputs": [
        {
          "output_type": "execute_result",
          "data": {
            "text/plain": [
              "11"
            ]
          },
          "metadata": {
            "tags": []
          },
          "execution_count": 51
        }
      ]
    },
    {
      "cell_type": "code",
      "metadata": {
        "id": "HHLSRnxDsBEo",
        "colab": {
          "base_uri": "https://localhost:8080/"
        },
        "outputId": "4c48af9a-cd89-4391-b086-2cde5ba822aa"
      },
      "source": [
        "(a * b).sum()"
      ],
      "execution_count": 52,
      "outputs": [
        {
          "output_type": "execute_result",
          "data": {
            "text/plain": [
              "11"
            ]
          },
          "metadata": {
            "tags": []
          },
          "execution_count": 52
        }
      ]
    },
    {
      "cell_type": "code",
      "metadata": {
        "id": "aRR1cbgksDmr",
        "colab": {
          "base_uri": "https://localhost:8080/"
        },
        "outputId": "53c68b05-8025-48eb-fe29-52c166a11910"
      },
      "source": [
        "np.dot(a, b)"
      ],
      "execution_count": 53,
      "outputs": [
        {
          "output_type": "execute_result",
          "data": {
            "text/plain": [
              "11"
            ]
          },
          "metadata": {
            "tags": []
          },
          "execution_count": 53
        }
      ]
    },
    {
      "cell_type": "code",
      "metadata": {
        "id": "6WwQ2TzHsFC3",
        "colab": {
          "base_uri": "https://localhost:8080/"
        },
        "outputId": "bcea9669-2250-4ddf-c45d-c5bdc45ad14d"
      },
      "source": [
        "a.dot(b)"
      ],
      "execution_count": 54,
      "outputs": [
        {
          "output_type": "execute_result",
          "data": {
            "text/plain": [
              "11"
            ]
          },
          "metadata": {
            "tags": []
          },
          "execution_count": 54
        }
      ]
    },
    {
      "cell_type": "code",
      "metadata": {
        "id": "l34Llv1MsGGI",
        "colab": {
          "base_uri": "https://localhost:8080/"
        },
        "outputId": "5c052188-2470-4fce-ca88-ac41289def8a"
      },
      "source": [
        "b.dot(a)"
      ],
      "execution_count": 55,
      "outputs": [
        {
          "output_type": "execute_result",
          "data": {
            "text/plain": [
              "11"
            ]
          },
          "metadata": {
            "tags": []
          },
          "execution_count": 55
        }
      ]
    },
    {
      "cell_type": "code",
      "metadata": {
        "id": "w7uLRNdesHTM",
        "colab": {
          "base_uri": "https://localhost:8080/"
        },
        "outputId": "d0c54711-2657-4ac7-c516-ad911ba8448a"
      },
      "source": [
        "a @ b"
      ],
      "execution_count": 56,
      "outputs": [
        {
          "output_type": "execute_result",
          "data": {
            "text/plain": [
              "11"
            ]
          },
          "metadata": {
            "tags": []
          },
          "execution_count": 56
        }
      ]
    },
    {
      "cell_type": "markdown",
      "metadata": {
        "id": "NeQ_U0EevVxR"
      },
      "source": [
        "$$ a^T b = \\left\\lVert a \\right\\rVert \\left\\lVert b \\right\\rVert \\cos \\theta_{ab}$$\n",
        "\n",
        "$$ \\cos \\theta_{ab} = \\frac{a^T b}{\\left\\lVert a \\right\\rVert \\left\\lVert b \\right\\rVert} $$"
      ]
    },
    {
      "cell_type": "markdown",
      "metadata": {
        "id": "HPnLQJ8zwjsZ"
      },
      "source": [
        "$$ \\left\\lVert a \\right\\rVert = \\sqrt{\\sum_{d=1}^D a_d^2 } $$"
      ]
    },
    {
      "cell_type": "code",
      "metadata": {
        "id": "uTIfhyQQsTW7",
        "colab": {
          "base_uri": "https://localhost:8080/"
        },
        "outputId": "4df08653-b238-4b7d-a6e4-f4d63e54042b"
      },
      "source": [
        "amag = np.sqrt((a * a).sum())\n",
        "amag"
      ],
      "execution_count": 57,
      "outputs": [
        {
          "output_type": "execute_result",
          "data": {
            "text/plain": [
              "2.23606797749979"
            ]
          },
          "metadata": {
            "tags": []
          },
          "execution_count": 57
        }
      ]
    },
    {
      "cell_type": "code",
      "metadata": {
        "id": "WmeKjge-sYc-",
        "colab": {
          "base_uri": "https://localhost:8080/"
        },
        "outputId": "c03f3e26-5164-4e25-fd9a-c30d4b050c21"
      },
      "source": [
        "amag = np.linalg.norm(amag)\n",
        "amag"
      ],
      "execution_count": 58,
      "outputs": [
        {
          "output_type": "execute_result",
          "data": {
            "text/plain": [
              "2.23606797749979"
            ]
          },
          "metadata": {
            "tags": []
          },
          "execution_count": 58
        }
      ]
    },
    {
      "cell_type": "code",
      "metadata": {
        "id": "ABr65tNMsc7_"
      },
      "source": [
        "cosangle = a.dot(b) / (np.linalg.norm(a) * np.linalg.norm(b))"
      ],
      "execution_count": 59,
      "outputs": []
    },
    {
      "cell_type": "code",
      "metadata": {
        "id": "tFlv4mQcsho3",
        "colab": {
          "base_uri": "https://localhost:8080/"
        },
        "outputId": "cf510083-a666-4faf-d1aa-5db30d2fc156"
      },
      "source": [
        "cosangle"
      ],
      "execution_count": 60,
      "outputs": [
        {
          "output_type": "execute_result",
          "data": {
            "text/plain": [
              "0.9838699100999074"
            ]
          },
          "metadata": {
            "tags": []
          },
          "execution_count": 60
        }
      ]
    },
    {
      "cell_type": "code",
      "metadata": {
        "id": "6zwbfBYIsi_P",
        "colab": {
          "base_uri": "https://localhost:8080/"
        },
        "outputId": "66244358-e317-4cf6-8693-a42aa7ac2d60"
      },
      "source": [
        "angle = np.arccos(cosangle)\n",
        "angle"
      ],
      "execution_count": 61,
      "outputs": [
        {
          "output_type": "execute_result",
          "data": {
            "text/plain": [
              "0.17985349979247847"
            ]
          },
          "metadata": {
            "tags": []
          },
          "execution_count": 61
        }
      ]
    },
    {
      "cell_type": "markdown",
      "metadata": {
        "id": "m7rqbLCcLwUU"
      },
      "source": [
        "## Speed Test"
      ]
    },
    {
      "cell_type": "code",
      "metadata": {
        "id": "1A4r4yUA8haB",
        "colab": {
          "base_uri": "https://localhost:8080/"
        },
        "outputId": "3e503981-fac9-4440-caad-1040d4880da0"
      },
      "source": [
        "## speed comparison ##\n",
        "import numpy as np\n",
        "from datetime import datetime\n",
        "\n",
        "# note: you can also use %timeit\n",
        "\n",
        "a = np.random.randn(100)\n",
        "b = np.random.randn(100)\n",
        "T = 100000\n",
        "\n",
        "def slow_dot_product(a, b):\n",
        "  result = 0\n",
        "  for e, f in zip(a, b):\n",
        "    result += e*f\n",
        "  return result\n",
        "\n",
        "t0 = datetime.now()\n",
        "for t in range(T):\n",
        "  slow_dot_product(a, b)\n",
        "dt1 = datetime.now() - t0\n",
        "\n",
        "t0 = datetime.now()\n",
        "for t in range(T):\n",
        "  a.dot(b)\n",
        "dt2 = datetime.now() - t0\n",
        "\n",
        "print(\"dt1 / dt2:\", dt1.total_seconds() / dt2.total_seconds())"
      ],
      "execution_count": 62,
      "outputs": [
        {
          "output_type": "stream",
          "text": [
            "dt1 / dt2: 60.949655582957725\n"
          ],
          "name": "stdout"
        }
      ]
    },
    {
      "cell_type": "markdown",
      "metadata": {
        "id": "Dp6XgRz-Lx0a"
      },
      "source": [
        "## Matrices"
      ]
    },
    {
      "cell_type": "code",
      "metadata": {
        "id": "yy5O-BRCLzBi",
        "colab": {
          "base_uri": "https://localhost:8080/"
        },
        "outputId": "10011ae1-c9d8-489a-de85-4af75bb35a7b"
      },
      "source": [
        "L = [[1,2], [3,4]]\n",
        "L"
      ],
      "execution_count": 63,
      "outputs": [
        {
          "output_type": "execute_result",
          "data": {
            "text/plain": [
              "[[1, 2], [3, 4]]"
            ]
          },
          "metadata": {
            "tags": []
          },
          "execution_count": 63
        }
      ]
    },
    {
      "cell_type": "code",
      "metadata": {
        "id": "8LKJa4A8M93b",
        "colab": {
          "base_uri": "https://localhost:8080/"
        },
        "outputId": "efa5b443-3c25-43b3-f2dd-4516b44120f2"
      },
      "source": [
        "L[0]"
      ],
      "execution_count": 64,
      "outputs": [
        {
          "output_type": "execute_result",
          "data": {
            "text/plain": [
              "[1, 2]"
            ]
          },
          "metadata": {
            "tags": []
          },
          "execution_count": 64
        }
      ]
    },
    {
      "cell_type": "code",
      "metadata": {
        "id": "0C-tEnZUbRFw",
        "outputId": "b5439cc1-4f60-4eeb-df2b-5a0f5bd8c56e",
        "colab": {
          "base_uri": "https://localhost:8080/"
        }
      },
      "source": [
        "L[0][1]"
      ],
      "execution_count": 65,
      "outputs": [
        {
          "output_type": "execute_result",
          "data": {
            "text/plain": [
              "2"
            ]
          },
          "metadata": {
            "tags": []
          },
          "execution_count": 65
        }
      ]
    },
    {
      "cell_type": "code",
      "metadata": {
        "id": "dRF81r-Sbbnj",
        "outputId": "b17f013d-a7c9-4806-b559-8cb856079753",
        "colab": {
          "base_uri": "https://localhost:8080/"
        }
      },
      "source": [
        "A = np.array([[1,2],[3,4]])\n",
        "A"
      ],
      "execution_count": 67,
      "outputs": [
        {
          "output_type": "execute_result",
          "data": {
            "text/plain": [
              "array([[1, 2],\n",
              "       [3, 4]])"
            ]
          },
          "metadata": {
            "tags": []
          },
          "execution_count": 67
        }
      ]
    },
    {
      "cell_type": "code",
      "metadata": {
        "id": "SaqQp0ckbhOW",
        "outputId": "a75a9fe4-265e-4985-b230-1a8bc19887ad",
        "colab": {
          "base_uri": "https://localhost:8080/"
        }
      },
      "source": [
        "A[0][1]"
      ],
      "execution_count": 68,
      "outputs": [
        {
          "output_type": "execute_result",
          "data": {
            "text/plain": [
              "2"
            ]
          },
          "metadata": {
            "tags": []
          },
          "execution_count": 68
        }
      ]
    },
    {
      "cell_type": "code",
      "metadata": {
        "id": "yZ_QlkNdbjEJ",
        "outputId": "112f6062-ef3b-4d2d-844a-b437af997ec4",
        "colab": {
          "base_uri": "https://localhost:8080/"
        }
      },
      "source": [
        "A[0,1]"
      ],
      "execution_count": 69,
      "outputs": [
        {
          "output_type": "execute_result",
          "data": {
            "text/plain": [
              "2"
            ]
          },
          "metadata": {
            "tags": []
          },
          "execution_count": 69
        }
      ]
    },
    {
      "cell_type": "code",
      "metadata": {
        "id": "Fgk4MsX2blQX",
        "outputId": "1eb5ce40-cdb7-4d8e-90ed-f9b00c4282f5",
        "colab": {
          "base_uri": "https://localhost:8080/"
        }
      },
      "source": [
        "A[:,0] # returns the column at index 0 (select every row of column 0)"
      ],
      "execution_count": 70,
      "outputs": [
        {
          "output_type": "execute_result",
          "data": {
            "text/plain": [
              "array([1, 3])"
            ]
          },
          "metadata": {
            "tags": []
          },
          "execution_count": 70
        }
      ]
    },
    {
      "cell_type": "code",
      "metadata": {
        "id": "KZB54A5ubs7Z",
        "outputId": "6063cea8-d749-4cfd-dbfd-5fe352680601",
        "colab": {
          "base_uri": "https://localhost:8080/"
        }
      },
      "source": [
        "A.T"
      ],
      "execution_count": 71,
      "outputs": [
        {
          "output_type": "execute_result",
          "data": {
            "text/plain": [
              "array([[1, 3],\n",
              "       [2, 4]])"
            ]
          },
          "metadata": {
            "tags": []
          },
          "execution_count": 71
        }
      ]
    },
    {
      "cell_type": "code",
      "metadata": {
        "id": "2MjQIwplbvh9",
        "outputId": "dcedfc8a-e66e-4799-fbdb-f2d2cce3777e",
        "colab": {
          "base_uri": "https://localhost:8080/"
        }
      },
      "source": [
        "np.exp(A)"
      ],
      "execution_count": 72,
      "outputs": [
        {
          "output_type": "execute_result",
          "data": {
            "text/plain": [
              "array([[ 2.71828183,  7.3890561 ],\n",
              "       [20.08553692, 54.59815003]])"
            ]
          },
          "metadata": {
            "tags": []
          },
          "execution_count": 72
        }
      ]
    },
    {
      "cell_type": "code",
      "metadata": {
        "id": "d9FCDHZOby-I",
        "outputId": "e7f39f50-2d6f-4aa7-f788-bb94f6e86546",
        "colab": {
          "base_uri": "https://localhost:8080/"
        }
      },
      "source": [
        "np.exp(L) # pass a list into numpy operation"
      ],
      "execution_count": 73,
      "outputs": [
        {
          "output_type": "execute_result",
          "data": {
            "text/plain": [
              "array([[ 2.71828183,  7.3890561 ],\n",
              "       [20.08553692, 54.59815003]])"
            ]
          },
          "metadata": {
            "tags": []
          },
          "execution_count": 73
        }
      ]
    },
    {
      "cell_type": "code",
      "metadata": {
        "id": "uQOOa9c_b6R6",
        "outputId": "8c824ff1-b5d8-4da2-fde3-ee2b30abd901",
        "colab": {
          "base_uri": "https://localhost:8080/"
        }
      },
      "source": [
        "B = np.array([[1,2,3],[4,5,6]])\n",
        "B"
      ],
      "execution_count": 74,
      "outputs": [
        {
          "output_type": "execute_result",
          "data": {
            "text/plain": [
              "array([[1, 2, 3],\n",
              "       [4, 5, 6]])"
            ]
          },
          "metadata": {
            "tags": []
          },
          "execution_count": 74
        }
      ]
    },
    {
      "cell_type": "code",
      "metadata": {
        "id": "TOq0CEoVcAoI",
        "outputId": "32c01665-0c13-4b3d-a853-93f082d79e31",
        "colab": {
          "base_uri": "https://localhost:8080/"
        }
      },
      "source": [
        "A.dot(B)"
      ],
      "execution_count": 75,
      "outputs": [
        {
          "output_type": "execute_result",
          "data": {
            "text/plain": [
              "array([[ 9, 12, 15],\n",
              "       [19, 26, 33]])"
            ]
          },
          "metadata": {
            "tags": []
          },
          "execution_count": 75
        }
      ]
    },
    {
      "cell_type": "code",
      "metadata": {
        "id": "tyneDp9VcDGT"
      },
      "source": [
        "# A.dot(B.T) # doesn't work, not aligned"
      ],
      "execution_count": 77,
      "outputs": []
    },
    {
      "cell_type": "code",
      "metadata": {
        "id": "ohXh_fAFcROf",
        "outputId": "6cc692ee-a07d-49c2-bf26-e287092f6a09",
        "colab": {
          "base_uri": "https://localhost:8080/"
        }
      },
      "source": [
        "np.linalg.det(A)"
      ],
      "execution_count": 78,
      "outputs": [
        {
          "output_type": "execute_result",
          "data": {
            "text/plain": [
              "-2.0000000000000004"
            ]
          },
          "metadata": {
            "tags": []
          },
          "execution_count": 78
        }
      ]
    },
    {
      "cell_type": "code",
      "metadata": {
        "id": "khrzyBQVcUUq",
        "outputId": "47d31a62-ff51-4ab1-9b85-97c66d339cf9",
        "colab": {
          "base_uri": "https://localhost:8080/"
        }
      },
      "source": [
        "np.linalg.inv(A)"
      ],
      "execution_count": 79,
      "outputs": [
        {
          "output_type": "execute_result",
          "data": {
            "text/plain": [
              "array([[-2. ,  1. ],\n",
              "       [ 1.5, -0.5]])"
            ]
          },
          "metadata": {
            "tags": []
          },
          "execution_count": 79
        }
      ]
    },
    {
      "cell_type": "code",
      "metadata": {
        "id": "139u0JeMcXaz",
        "outputId": "abd0129c-1c80-41ed-ac29-50645357fd24",
        "colab": {
          "base_uri": "https://localhost:8080/"
        }
      },
      "source": [
        "np.linalg.inv(A).dot(A)"
      ],
      "execution_count": 80,
      "outputs": [
        {
          "output_type": "execute_result",
          "data": {
            "text/plain": [
              "array([[1.00000000e+00, 0.00000000e+00],\n",
              "       [1.11022302e-16, 1.00000000e+00]])"
            ]
          },
          "metadata": {
            "tags": []
          },
          "execution_count": 80
        }
      ]
    },
    {
      "cell_type": "code",
      "metadata": {
        "id": "CaWl8HjKci8K",
        "outputId": "47a201f0-eb1e-4373-a46e-c5b94d531ed8",
        "colab": {
          "base_uri": "https://localhost:8080/"
        }
      },
      "source": [
        "np.trace(A)"
      ],
      "execution_count": 81,
      "outputs": [
        {
          "output_type": "execute_result",
          "data": {
            "text/plain": [
              "5"
            ]
          },
          "metadata": {
            "tags": []
          },
          "execution_count": 81
        }
      ]
    },
    {
      "cell_type": "code",
      "metadata": {
        "id": "muQSLrFUcqIy",
        "outputId": "9732d15b-b84a-4f21-cd33-eedcefb7730f",
        "colab": {
          "base_uri": "https://localhost:8080/"
        }
      },
      "source": [
        "np.diag(A) # get the diagonal elements of A"
      ],
      "execution_count": 82,
      "outputs": [
        {
          "output_type": "execute_result",
          "data": {
            "text/plain": [
              "array([1, 4])"
            ]
          },
          "metadata": {
            "tags": []
          },
          "execution_count": 82
        }
      ]
    },
    {
      "cell_type": "code",
      "metadata": {
        "id": "-qNWFUxfcssM",
        "outputId": "122df197-5561-456c-a005-474662a48860",
        "colab": {
          "base_uri": "https://localhost:8080/"
        }
      },
      "source": [
        "np.diag([1,4]) # create a diagonal matrix with 1 and 4 on the diagonal"
      ],
      "execution_count": 83,
      "outputs": [
        {
          "output_type": "execute_result",
          "data": {
            "text/plain": [
              "array([[1, 0],\n",
              "       [0, 4]])"
            ]
          },
          "metadata": {
            "tags": []
          },
          "execution_count": 83
        }
      ]
    },
    {
      "cell_type": "code",
      "metadata": {
        "id": "1Vc_Qlnic4LE"
      },
      "source": [
        ""
      ],
      "execution_count": null,
      "outputs": []
    },
    {
      "cell_type": "markdown",
      "metadata": {
        "id": "9AsdYgOkWmx3"
      },
      "source": [
        "# Solving Linear Systems"
      ]
    },
    {
      "cell_type": "markdown",
      "metadata": {
        "id": "xNdMno4VWokr"
      },
      "source": [
        "# Generating Data"
      ]
    },
    {
      "cell_type": "markdown",
      "metadata": {
        "id": "MUkAkcsUWp1K"
      },
      "source": [
        "# Numpy Exercise"
      ]
    }
  ]
}