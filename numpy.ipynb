{
  "nbformat": 4,
  "nbformat_minor": 0,
  "metadata": {
    "colab": {
      "name": "numpy.ipynb",
      "provenance": [],
      "toc_visible": true,
      "authorship_tag": "ABX9TyMMXcSNlGgzx0MZo6tDjKXs",
      "include_colab_link": true
    },
    "kernelspec": {
      "name": "python3",
      "display_name": "Python 3"
    }
  },
  "cells": [
    {
      "cell_type": "markdown",
      "metadata": {
        "id": "view-in-github",
        "colab_type": "text"
      },
      "source": [
        "<a href=\"https://colab.research.google.com/github/wbwatkinson/udemy_numpy_stack/blob/main/numpy.ipynb\" target=\"_parent\"><img src=\"https://colab.research.google.com/assets/colab-badge.svg\" alt=\"Open In Colab\"/></a>"
      ]
    },
    {
      "cell_type": "markdown",
      "metadata": {
        "id": "v3UUQkVko68G"
      },
      "source": [
        "Section 1 of:\n",
        "\n",
        "https://www.udemy.com/deep-learning-prerequisites-the-numpy-stack-in-python/\n",
        "\n",
        "https://deeplearningcourses.com/c/deep-learning-prerequisites-the-numpy-stack-in-python"
      ]
    },
    {
      "cell_type": "markdown",
      "metadata": {
        "id": "Qppj_nuWLj5x"
      },
      "source": [
        "## Arrays vs Lists"
      ]
    },
    {
      "cell_type": "code",
      "metadata": {
        "id": "2YWtop3oo3jK"
      },
      "source": [
        "import numpy as np"
      ],
      "execution_count": 21,
      "outputs": []
    },
    {
      "cell_type": "code",
      "metadata": {
        "id": "CYf8KIrKpDlp"
      },
      "source": [
        "L = [1,2,3]"
      ],
      "execution_count": 22,
      "outputs": []
    },
    {
      "cell_type": "code",
      "metadata": {
        "id": "AABDVAM-pKqw"
      },
      "source": [
        "A = np.array([1,2,3])"
      ],
      "execution_count": 23,
      "outputs": []
    },
    {
      "cell_type": "code",
      "metadata": {
        "id": "hYwR2_RepN6D",
        "colab": {
          "base_uri": "https://localhost:8080/"
        },
        "outputId": "7b89f7de-9833-416d-bbed-878131d1ebb5"
      },
      "source": [
        "for e in L:\n",
        "  print(e)"
      ],
      "execution_count": 24,
      "outputs": [
        {
          "output_type": "stream",
          "text": [
            "1\n",
            "2\n",
            "3\n"
          ],
          "name": "stdout"
        }
      ]
    },
    {
      "cell_type": "code",
      "metadata": {
        "id": "l3N31fTspP4B",
        "colab": {
          "base_uri": "https://localhost:8080/"
        },
        "outputId": "c6a84bcf-c712-44fb-d09d-75d91c838800"
      },
      "source": [
        "for e in A:\n",
        "  print(e)"
      ],
      "execution_count": 25,
      "outputs": [
        {
          "output_type": "stream",
          "text": [
            "1\n",
            "2\n",
            "3\n"
          ],
          "name": "stdout"
        }
      ]
    },
    {
      "cell_type": "code",
      "metadata": {
        "id": "L_WURu4epSm6"
      },
      "source": [
        "L.append(4)"
      ],
      "execution_count": 26,
      "outputs": []
    },
    {
      "cell_type": "code",
      "metadata": {
        "id": "fDsd-UBXpXNU",
        "colab": {
          "base_uri": "https://localhost:8080/"
        },
        "outputId": "eb2d3cf1-1463-48ca-ecdf-cd02a5ed340e"
      },
      "source": [
        "L"
      ],
      "execution_count": 27,
      "outputs": [
        {
          "output_type": "execute_result",
          "data": {
            "text/plain": [
              "[1, 2, 3, 4]"
            ]
          },
          "metadata": {
            "tags": []
          },
          "execution_count": 27
        }
      ]
    },
    {
      "cell_type": "code",
      "metadata": {
        "id": "8DP73J3KpYH7"
      },
      "source": [
        "# A.append(4) # doesn't work"
      ],
      "execution_count": 28,
      "outputs": []
    },
    {
      "cell_type": "code",
      "metadata": {
        "id": "beoI6SsCpbQW",
        "colab": {
          "base_uri": "https://localhost:8080/"
        },
        "outputId": "91afe468-72e0-41ea-8028-4f6fe4d824c1"
      },
      "source": [
        "L + [5]"
      ],
      "execution_count": 29,
      "outputs": [
        {
          "output_type": "execute_result",
          "data": {
            "text/plain": [
              "[1, 2, 3, 4, 5]"
            ]
          },
          "metadata": {
            "tags": []
          },
          "execution_count": 29
        }
      ]
    },
    {
      "cell_type": "code",
      "metadata": {
        "id": "UodzHCvUphsg",
        "colab": {
          "base_uri": "https://localhost:8080/"
        },
        "outputId": "02254c3d-ae52-4326-dfac-1cdddd42eb49"
      },
      "source": [
        "A + np.array([4])"
      ],
      "execution_count": 30,
      "outputs": [
        {
          "output_type": "execute_result",
          "data": {
            "text/plain": [
              "array([5, 6, 7])"
            ]
          },
          "metadata": {
            "tags": []
          },
          "execution_count": 30
        }
      ]
    },
    {
      "cell_type": "code",
      "metadata": {
        "id": "NQeDCZ9fpl3M",
        "colab": {
          "base_uri": "https://localhost:8080/"
        },
        "outputId": "fd233826-6415-4e9f-eeee-6f9d1464e226"
      },
      "source": [
        "A + np.array([4,5,6])"
      ],
      "execution_count": 31,
      "outputs": [
        {
          "output_type": "execute_result",
          "data": {
            "text/plain": [
              "array([5, 7, 9])"
            ]
          },
          "metadata": {
            "tags": []
          },
          "execution_count": 31
        }
      ]
    },
    {
      "cell_type": "code",
      "metadata": {
        "id": "FvYRdkbHppDf"
      },
      "source": [
        "# A + np.array([4,5]) # doesn't work"
      ],
      "execution_count": 32,
      "outputs": []
    },
    {
      "cell_type": "code",
      "metadata": {
        "id": "MS2n4LxVpr6b",
        "colab": {
          "base_uri": "https://localhost:8080/"
        },
        "outputId": "46224825-e0a0-473b-feff-1e8552b0b9f3"
      },
      "source": [
        "2 * A"
      ],
      "execution_count": 33,
      "outputs": [
        {
          "output_type": "execute_result",
          "data": {
            "text/plain": [
              "array([2, 4, 6])"
            ]
          },
          "metadata": {
            "tags": []
          },
          "execution_count": 33
        }
      ]
    },
    {
      "cell_type": "code",
      "metadata": {
        "id": "zO4USxRzptgs",
        "colab": {
          "base_uri": "https://localhost:8080/"
        },
        "outputId": "61656dfd-ecb0-4240-fef6-17c3d615055c"
      },
      "source": [
        "2 * L"
      ],
      "execution_count": 34,
      "outputs": [
        {
          "output_type": "execute_result",
          "data": {
            "text/plain": [
              "[1, 2, 3, 4, 1, 2, 3, 4]"
            ]
          },
          "metadata": {
            "tags": []
          },
          "execution_count": 34
        }
      ]
    },
    {
      "cell_type": "code",
      "metadata": {
        "id": "LtLSqZgipu-P",
        "colab": {
          "base_uri": "https://localhost:8080/"
        },
        "outputId": "a01bb15b-6005-4f93-d01a-863df8046c72"
      },
      "source": [
        "L + L"
      ],
      "execution_count": 35,
      "outputs": [
        {
          "output_type": "execute_result",
          "data": {
            "text/plain": [
              "[1, 2, 3, 4, 1, 2, 3, 4]"
            ]
          },
          "metadata": {
            "tags": []
          },
          "execution_count": 35
        }
      ]
    },
    {
      "cell_type": "code",
      "metadata": {
        "id": "RJ11NZkSp13o"
      },
      "source": [
        "L2 = []\n",
        "for e in L:\n",
        "  L2.append(e + 3)"
      ],
      "execution_count": 36,
      "outputs": []
    },
    {
      "cell_type": "code",
      "metadata": {
        "id": "ZgtqoSvIp4va",
        "colab": {
          "base_uri": "https://localhost:8080/"
        },
        "outputId": "19cd2d8b-b77b-4a9e-8d36-46ec492904fe"
      },
      "source": [
        "L2"
      ],
      "execution_count": 37,
      "outputs": [
        {
          "output_type": "execute_result",
          "data": {
            "text/plain": [
              "[4, 5, 6, 7]"
            ]
          },
          "metadata": {
            "tags": []
          },
          "execution_count": 37
        }
      ]
    },
    {
      "cell_type": "code",
      "metadata": {
        "id": "GZCQEk-Rp7gx"
      },
      "source": [
        "L2 = [e + 3 for e in L]"
      ],
      "execution_count": 38,
      "outputs": []
    },
    {
      "cell_type": "code",
      "metadata": {
        "id": "McUAtUVep960",
        "colab": {
          "base_uri": "https://localhost:8080/"
        },
        "outputId": "40923fe7-7351-495c-ed00-84ceaaa1508b"
      },
      "source": [
        "L2"
      ],
      "execution_count": 39,
      "outputs": [
        {
          "output_type": "execute_result",
          "data": {
            "text/plain": [
              "[4, 5, 6, 7]"
            ]
          },
          "metadata": {
            "tags": []
          },
          "execution_count": 39
        }
      ]
    },
    {
      "cell_type": "code",
      "metadata": {
        "id": "vcy3WKcwp-wi"
      },
      "source": [
        "L2 = []\n",
        "for e in L:\n",
        "  L2.append(e**2)"
      ],
      "execution_count": 40,
      "outputs": []
    },
    {
      "cell_type": "code",
      "metadata": {
        "id": "1Emx-hN_qDa2",
        "colab": {
          "base_uri": "https://localhost:8080/"
        },
        "outputId": "6652ebb9-f3e2-4bc4-de17-e4e2aa570434"
      },
      "source": [
        "L2"
      ],
      "execution_count": 41,
      "outputs": [
        {
          "output_type": "execute_result",
          "data": {
            "text/plain": [
              "[1, 4, 9, 16]"
            ]
          },
          "metadata": {
            "tags": []
          },
          "execution_count": 41
        }
      ]
    },
    {
      "cell_type": "code",
      "metadata": {
        "id": "blVB8cA9qERt",
        "colab": {
          "base_uri": "https://localhost:8080/"
        },
        "outputId": "068e76a8-28be-4349-f5a5-eb7d6ad0237a"
      },
      "source": [
        "A**2"
      ],
      "execution_count": 42,
      "outputs": [
        {
          "output_type": "execute_result",
          "data": {
            "text/plain": [
              "array([1, 4, 9])"
            ]
          },
          "metadata": {
            "tags": []
          },
          "execution_count": 42
        }
      ]
    },
    {
      "cell_type": "code",
      "metadata": {
        "id": "gDfVRJ5fqGPV",
        "colab": {
          "base_uri": "https://localhost:8080/"
        },
        "outputId": "e0095d4e-293c-4412-86b0-7f12197ff800"
      },
      "source": [
        "np.sqrt(A)"
      ],
      "execution_count": 43,
      "outputs": [
        {
          "output_type": "execute_result",
          "data": {
            "text/plain": [
              "array([1.        , 1.41421356, 1.73205081])"
            ]
          },
          "metadata": {
            "tags": []
          },
          "execution_count": 43
        }
      ]
    },
    {
      "cell_type": "code",
      "metadata": {
        "id": "yUwFM2OhqHwq",
        "colab": {
          "base_uri": "https://localhost:8080/"
        },
        "outputId": "b067fc73-73f1-4fd4-e44f-726e20e6e0fa"
      },
      "source": [
        "np.log(A)"
      ],
      "execution_count": 44,
      "outputs": [
        {
          "output_type": "execute_result",
          "data": {
            "text/plain": [
              "array([0.        , 0.69314718, 1.09861229])"
            ]
          },
          "metadata": {
            "tags": []
          },
          "execution_count": 44
        }
      ]
    },
    {
      "cell_type": "code",
      "metadata": {
        "id": "vlF9GWxzqIpd",
        "colab": {
          "base_uri": "https://localhost:8080/"
        },
        "outputId": "df42915c-ccb7-41cc-f3b7-bc6af0aca31c"
      },
      "source": [
        "np.exp(A)"
      ],
      "execution_count": 45,
      "outputs": [
        {
          "output_type": "execute_result",
          "data": {
            "text/plain": [
              "array([ 2.71828183,  7.3890561 , 20.08553692])"
            ]
          },
          "metadata": {
            "tags": []
          },
          "execution_count": 45
        }
      ]
    },
    {
      "cell_type": "code",
      "metadata": {
        "id": "pPvbPZB6qJq2",
        "colab": {
          "base_uri": "https://localhost:8080/"
        },
        "outputId": "0f90d219-bc85-4cfd-853c-ae2c0282f4cd"
      },
      "source": [
        "np.tanh(A)"
      ],
      "execution_count": 46,
      "outputs": [
        {
          "output_type": "execute_result",
          "data": {
            "text/plain": [
              "array([0.76159416, 0.96402758, 0.99505475])"
            ]
          },
          "metadata": {
            "tags": []
          },
          "execution_count": 46
        }
      ]
    },
    {
      "cell_type": "markdown",
      "metadata": {
        "id": "bITmEpM7LszR"
      },
      "source": [
        "## The Dot Product"
      ]
    },
    {
      "cell_type": "markdown",
      "metadata": {
        "id": "OJa5nyifvA-j"
      },
      "source": [
        "$$ a \\cdot b = a^T b = \\sum_{d=1}^D a_d b_d $$"
      ]
    },
    {
      "cell_type": "code",
      "metadata": {
        "id": "JnZ_vWW4qMTE"
      },
      "source": [
        "a = np.array([1,2])\n",
        "b = np.array([3,4])"
      ],
      "execution_count": 47,
      "outputs": []
    },
    {
      "cell_type": "code",
      "metadata": {
        "id": "bdD4Vzm3ryuR",
        "colab": {
          "base_uri": "https://localhost:8080/"
        },
        "outputId": "f5f8e271-5025-46da-c8c9-a414613061f1"
      },
      "source": [
        "dot = 0\n",
        "for e, f in zip(a, b):\n",
        "  dot += e*f\n",
        "dot"
      ],
      "execution_count": 48,
      "outputs": [
        {
          "output_type": "execute_result",
          "data": {
            "text/plain": [
              "11"
            ]
          },
          "metadata": {
            "tags": []
          },
          "execution_count": 48
        }
      ]
    },
    {
      "cell_type": "code",
      "metadata": {
        "id": "efUGU3ZNEH9T",
        "colab": {
          "base_uri": "https://localhost:8080/"
        },
        "outputId": "7e220c59-a5a0-45f0-a7a2-3f0459a150aa"
      },
      "source": [
        "# use integer index\n",
        "dot = 0\n",
        "for i in range(len(a)):\n",
        "  dot += a[i] * b[i]\n",
        "dot"
      ],
      "execution_count": 49,
      "outputs": [
        {
          "output_type": "execute_result",
          "data": {
            "text/plain": [
              "11"
            ]
          },
          "metadata": {
            "tags": []
          },
          "execution_count": 49
        }
      ]
    },
    {
      "cell_type": "code",
      "metadata": {
        "id": "O8BdMMpxr6F_",
        "colab": {
          "base_uri": "https://localhost:8080/"
        },
        "outputId": "99f5b0ad-aa04-43e5-d8c0-08fbf0e344d1"
      },
      "source": [
        "a * b"
      ],
      "execution_count": 50,
      "outputs": [
        {
          "output_type": "execute_result",
          "data": {
            "text/plain": [
              "array([3, 8])"
            ]
          },
          "metadata": {
            "tags": []
          },
          "execution_count": 50
        }
      ]
    },
    {
      "cell_type": "code",
      "metadata": {
        "id": "E_Msua0sr_Tz",
        "colab": {
          "base_uri": "https://localhost:8080/"
        },
        "outputId": "f2eac19b-054d-4b8f-fe95-52fff3460530"
      },
      "source": [
        "np.sum(a * b)"
      ],
      "execution_count": 51,
      "outputs": [
        {
          "output_type": "execute_result",
          "data": {
            "text/plain": [
              "11"
            ]
          },
          "metadata": {
            "tags": []
          },
          "execution_count": 51
        }
      ]
    },
    {
      "cell_type": "code",
      "metadata": {
        "id": "HHLSRnxDsBEo",
        "colab": {
          "base_uri": "https://localhost:8080/"
        },
        "outputId": "4c48af9a-cd89-4391-b086-2cde5ba822aa"
      },
      "source": [
        "(a * b).sum()"
      ],
      "execution_count": 52,
      "outputs": [
        {
          "output_type": "execute_result",
          "data": {
            "text/plain": [
              "11"
            ]
          },
          "metadata": {
            "tags": []
          },
          "execution_count": 52
        }
      ]
    },
    {
      "cell_type": "code",
      "metadata": {
        "id": "aRR1cbgksDmr",
        "colab": {
          "base_uri": "https://localhost:8080/"
        },
        "outputId": "53c68b05-8025-48eb-fe29-52c166a11910"
      },
      "source": [
        "np.dot(a, b)"
      ],
      "execution_count": 53,
      "outputs": [
        {
          "output_type": "execute_result",
          "data": {
            "text/plain": [
              "11"
            ]
          },
          "metadata": {
            "tags": []
          },
          "execution_count": 53
        }
      ]
    },
    {
      "cell_type": "code",
      "metadata": {
        "id": "6WwQ2TzHsFC3",
        "colab": {
          "base_uri": "https://localhost:8080/"
        },
        "outputId": "bcea9669-2250-4ddf-c45d-c5bdc45ad14d"
      },
      "source": [
        "a.dot(b)"
      ],
      "execution_count": 54,
      "outputs": [
        {
          "output_type": "execute_result",
          "data": {
            "text/plain": [
              "11"
            ]
          },
          "metadata": {
            "tags": []
          },
          "execution_count": 54
        }
      ]
    },
    {
      "cell_type": "code",
      "metadata": {
        "id": "l34Llv1MsGGI",
        "colab": {
          "base_uri": "https://localhost:8080/"
        },
        "outputId": "5c052188-2470-4fce-ca88-ac41289def8a"
      },
      "source": [
        "b.dot(a)"
      ],
      "execution_count": 55,
      "outputs": [
        {
          "output_type": "execute_result",
          "data": {
            "text/plain": [
              "11"
            ]
          },
          "metadata": {
            "tags": []
          },
          "execution_count": 55
        }
      ]
    },
    {
      "cell_type": "code",
      "metadata": {
        "id": "w7uLRNdesHTM",
        "colab": {
          "base_uri": "https://localhost:8080/"
        },
        "outputId": "d0c54711-2657-4ac7-c516-ad911ba8448a"
      },
      "source": [
        "a @ b"
      ],
      "execution_count": 56,
      "outputs": [
        {
          "output_type": "execute_result",
          "data": {
            "text/plain": [
              "11"
            ]
          },
          "metadata": {
            "tags": []
          },
          "execution_count": 56
        }
      ]
    },
    {
      "cell_type": "markdown",
      "metadata": {
        "id": "NeQ_U0EevVxR"
      },
      "source": [
        "$$ a^T b = \\left\\lVert a \\right\\rVert \\left\\lVert b \\right\\rVert \\cos \\theta_{ab}$$\n",
        "\n",
        "$$ \\cos \\theta_{ab} = \\frac{a^T b}{\\left\\lVert a \\right\\rVert \\left\\lVert b \\right\\rVert} $$"
      ]
    },
    {
      "cell_type": "markdown",
      "metadata": {
        "id": "HPnLQJ8zwjsZ"
      },
      "source": [
        "$$ \\left\\lVert a \\right\\rVert = \\sqrt{\\sum_{d=1}^D a_d^2 } $$"
      ]
    },
    {
      "cell_type": "code",
      "metadata": {
        "id": "uTIfhyQQsTW7",
        "colab": {
          "base_uri": "https://localhost:8080/"
        },
        "outputId": "4df08653-b238-4b7d-a6e4-f4d63e54042b"
      },
      "source": [
        "amag = np.sqrt((a * a).sum())\n",
        "amag"
      ],
      "execution_count": 57,
      "outputs": [
        {
          "output_type": "execute_result",
          "data": {
            "text/plain": [
              "2.23606797749979"
            ]
          },
          "metadata": {
            "tags": []
          },
          "execution_count": 57
        }
      ]
    },
    {
      "cell_type": "code",
      "metadata": {
        "id": "WmeKjge-sYc-",
        "colab": {
          "base_uri": "https://localhost:8080/"
        },
        "outputId": "c03f3e26-5164-4e25-fd9a-c30d4b050c21"
      },
      "source": [
        "amag = np.linalg.norm(amag)\n",
        "amag"
      ],
      "execution_count": 58,
      "outputs": [
        {
          "output_type": "execute_result",
          "data": {
            "text/plain": [
              "2.23606797749979"
            ]
          },
          "metadata": {
            "tags": []
          },
          "execution_count": 58
        }
      ]
    },
    {
      "cell_type": "code",
      "metadata": {
        "id": "ABr65tNMsc7_"
      },
      "source": [
        "cosangle = a.dot(b) / (np.linalg.norm(a) * np.linalg.norm(b))"
      ],
      "execution_count": 59,
      "outputs": []
    },
    {
      "cell_type": "code",
      "metadata": {
        "id": "tFlv4mQcsho3",
        "colab": {
          "base_uri": "https://localhost:8080/"
        },
        "outputId": "cf510083-a666-4faf-d1aa-5db30d2fc156"
      },
      "source": [
        "cosangle"
      ],
      "execution_count": 60,
      "outputs": [
        {
          "output_type": "execute_result",
          "data": {
            "text/plain": [
              "0.9838699100999074"
            ]
          },
          "metadata": {
            "tags": []
          },
          "execution_count": 60
        }
      ]
    },
    {
      "cell_type": "code",
      "metadata": {
        "id": "6zwbfBYIsi_P",
        "colab": {
          "base_uri": "https://localhost:8080/"
        },
        "outputId": "66244358-e317-4cf6-8693-a42aa7ac2d60"
      },
      "source": [
        "angle = np.arccos(cosangle)\n",
        "angle"
      ],
      "execution_count": 61,
      "outputs": [
        {
          "output_type": "execute_result",
          "data": {
            "text/plain": [
              "0.17985349979247847"
            ]
          },
          "metadata": {
            "tags": []
          },
          "execution_count": 61
        }
      ]
    },
    {
      "cell_type": "markdown",
      "metadata": {
        "id": "m7rqbLCcLwUU"
      },
      "source": [
        "## Speed Test"
      ]
    },
    {
      "cell_type": "code",
      "metadata": {
        "id": "1A4r4yUA8haB",
        "colab": {
          "base_uri": "https://localhost:8080/"
        },
        "outputId": "3e503981-fac9-4440-caad-1040d4880da0"
      },
      "source": [
        "## speed comparison ##\n",
        "import numpy as np\n",
        "from datetime import datetime\n",
        "\n",
        "# note: you can also use %timeit\n",
        "\n",
        "a = np.random.randn(100)\n",
        "b = np.random.randn(100)\n",
        "T = 100000\n",
        "\n",
        "def slow_dot_product(a, b):\n",
        "  result = 0\n",
        "  for e, f in zip(a, b):\n",
        "    result += e*f\n",
        "  return result\n",
        "\n",
        "t0 = datetime.now()\n",
        "for t in range(T):\n",
        "  slow_dot_product(a, b)\n",
        "dt1 = datetime.now() - t0\n",
        "\n",
        "t0 = datetime.now()\n",
        "for t in range(T):\n",
        "  a.dot(b)\n",
        "dt2 = datetime.now() - t0\n",
        "\n",
        "print(\"dt1 / dt2:\", dt1.total_seconds() / dt2.total_seconds())"
      ],
      "execution_count": 62,
      "outputs": [
        {
          "output_type": "stream",
          "text": [
            "dt1 / dt2: 60.949655582957725\n"
          ],
          "name": "stdout"
        }
      ]
    },
    {
      "cell_type": "markdown",
      "metadata": {
        "id": "Dp6XgRz-Lx0a"
      },
      "source": [
        "## Matrices"
      ]
    },
    {
      "cell_type": "code",
      "metadata": {
        "id": "yy5O-BRCLzBi",
        "colab": {
          "base_uri": "https://localhost:8080/"
        },
        "outputId": "10011ae1-c9d8-489a-de85-4af75bb35a7b"
      },
      "source": [
        "L = [[1,2], [3,4]]\n",
        "L"
      ],
      "execution_count": 63,
      "outputs": [
        {
          "output_type": "execute_result",
          "data": {
            "text/plain": [
              "[[1, 2], [3, 4]]"
            ]
          },
          "metadata": {
            "tags": []
          },
          "execution_count": 63
        }
      ]
    },
    {
      "cell_type": "code",
      "metadata": {
        "id": "8LKJa4A8M93b",
        "colab": {
          "base_uri": "https://localhost:8080/"
        },
        "outputId": "efa5b443-3c25-43b3-f2dd-4516b44120f2"
      },
      "source": [
        "L[0]"
      ],
      "execution_count": 64,
      "outputs": [
        {
          "output_type": "execute_result",
          "data": {
            "text/plain": [
              "[1, 2]"
            ]
          },
          "metadata": {
            "tags": []
          },
          "execution_count": 64
        }
      ]
    },
    {
      "cell_type": "code",
      "metadata": {
        "colab": {
          "base_uri": "https://localhost:8080/"
        },
        "id": "0C-tEnZUbRFw",
        "outputId": "b5439cc1-4f60-4eeb-df2b-5a0f5bd8c56e"
      },
      "source": [
        "L[0][1]"
      ],
      "execution_count": 65,
      "outputs": [
        {
          "output_type": "execute_result",
          "data": {
            "text/plain": [
              "2"
            ]
          },
          "metadata": {
            "tags": []
          },
          "execution_count": 65
        }
      ]
    },
    {
      "cell_type": "code",
      "metadata": {
        "colab": {
          "base_uri": "https://localhost:8080/"
        },
        "id": "dRF81r-Sbbnj",
        "outputId": "b17f013d-a7c9-4806-b559-8cb856079753"
      },
      "source": [
        "A = np.array([[1,2],[3,4]])\n",
        "A"
      ],
      "execution_count": 67,
      "outputs": [
        {
          "output_type": "execute_result",
          "data": {
            "text/plain": [
              "array([[1, 2],\n",
              "       [3, 4]])"
            ]
          },
          "metadata": {
            "tags": []
          },
          "execution_count": 67
        }
      ]
    },
    {
      "cell_type": "code",
      "metadata": {
        "colab": {
          "base_uri": "https://localhost:8080/"
        },
        "id": "SaqQp0ckbhOW",
        "outputId": "a75a9fe4-265e-4985-b230-1a8bc19887ad"
      },
      "source": [
        "A[0][1]"
      ],
      "execution_count": 68,
      "outputs": [
        {
          "output_type": "execute_result",
          "data": {
            "text/plain": [
              "2"
            ]
          },
          "metadata": {
            "tags": []
          },
          "execution_count": 68
        }
      ]
    },
    {
      "cell_type": "code",
      "metadata": {
        "colab": {
          "base_uri": "https://localhost:8080/"
        },
        "id": "yZ_QlkNdbjEJ",
        "outputId": "112f6062-ef3b-4d2d-844a-b437af997ec4"
      },
      "source": [
        "A[0,1]"
      ],
      "execution_count": 69,
      "outputs": [
        {
          "output_type": "execute_result",
          "data": {
            "text/plain": [
              "2"
            ]
          },
          "metadata": {
            "tags": []
          },
          "execution_count": 69
        }
      ]
    },
    {
      "cell_type": "code",
      "metadata": {
        "colab": {
          "base_uri": "https://localhost:8080/"
        },
        "id": "Fgk4MsX2blQX",
        "outputId": "1eb5ce40-cdb7-4d8e-90ed-f9b00c4282f5"
      },
      "source": [
        "A[:,0] # returns the column at index 0 (select every row of column 0)"
      ],
      "execution_count": 70,
      "outputs": [
        {
          "output_type": "execute_result",
          "data": {
            "text/plain": [
              "array([1, 3])"
            ]
          },
          "metadata": {
            "tags": []
          },
          "execution_count": 70
        }
      ]
    },
    {
      "cell_type": "code",
      "metadata": {
        "colab": {
          "base_uri": "https://localhost:8080/"
        },
        "id": "KZB54A5ubs7Z",
        "outputId": "6063cea8-d749-4cfd-dbfd-5fe352680601"
      },
      "source": [
        "A.T"
      ],
      "execution_count": 71,
      "outputs": [
        {
          "output_type": "execute_result",
          "data": {
            "text/plain": [
              "array([[1, 3],\n",
              "       [2, 4]])"
            ]
          },
          "metadata": {
            "tags": []
          },
          "execution_count": 71
        }
      ]
    },
    {
      "cell_type": "code",
      "metadata": {
        "colab": {
          "base_uri": "https://localhost:8080/"
        },
        "id": "2MjQIwplbvh9",
        "outputId": "dcedfc8a-e66e-4799-fbdb-f2d2cce3777e"
      },
      "source": [
        "np.exp(A)"
      ],
      "execution_count": 72,
      "outputs": [
        {
          "output_type": "execute_result",
          "data": {
            "text/plain": [
              "array([[ 2.71828183,  7.3890561 ],\n",
              "       [20.08553692, 54.59815003]])"
            ]
          },
          "metadata": {
            "tags": []
          },
          "execution_count": 72
        }
      ]
    },
    {
      "cell_type": "code",
      "metadata": {
        "colab": {
          "base_uri": "https://localhost:8080/"
        },
        "id": "d9FCDHZOby-I",
        "outputId": "e7f39f50-2d6f-4aa7-f788-bb94f6e86546"
      },
      "source": [
        "np.exp(L) # pass a list into numpy operation"
      ],
      "execution_count": 73,
      "outputs": [
        {
          "output_type": "execute_result",
          "data": {
            "text/plain": [
              "array([[ 2.71828183,  7.3890561 ],\n",
              "       [20.08553692, 54.59815003]])"
            ]
          },
          "metadata": {
            "tags": []
          },
          "execution_count": 73
        }
      ]
    },
    {
      "cell_type": "code",
      "metadata": {
        "colab": {
          "base_uri": "https://localhost:8080/"
        },
        "id": "uQOOa9c_b6R6",
        "outputId": "8c824ff1-b5d8-4da2-fde3-ee2b30abd901"
      },
      "source": [
        "B = np.array([[1,2,3],[4,5,6]])\n",
        "B"
      ],
      "execution_count": 74,
      "outputs": [
        {
          "output_type": "execute_result",
          "data": {
            "text/plain": [
              "array([[1, 2, 3],\n",
              "       [4, 5, 6]])"
            ]
          },
          "metadata": {
            "tags": []
          },
          "execution_count": 74
        }
      ]
    },
    {
      "cell_type": "code",
      "metadata": {
        "colab": {
          "base_uri": "https://localhost:8080/"
        },
        "id": "TOq0CEoVcAoI",
        "outputId": "32c01665-0c13-4b3d-a853-93f082d79e31"
      },
      "source": [
        "A.dot(B)"
      ],
      "execution_count": 75,
      "outputs": [
        {
          "output_type": "execute_result",
          "data": {
            "text/plain": [
              "array([[ 9, 12, 15],\n",
              "       [19, 26, 33]])"
            ]
          },
          "metadata": {
            "tags": []
          },
          "execution_count": 75
        }
      ]
    },
    {
      "cell_type": "code",
      "metadata": {
        "id": "tyneDp9VcDGT"
      },
      "source": [
        "# A.dot(B.T) # doesn't work, not aligned"
      ],
      "execution_count": 77,
      "outputs": []
    },
    {
      "cell_type": "code",
      "metadata": {
        "colab": {
          "base_uri": "https://localhost:8080/"
        },
        "id": "ohXh_fAFcROf",
        "outputId": "6cc692ee-a07d-49c2-bf26-e287092f6a09"
      },
      "source": [
        "np.linalg.det(A)"
      ],
      "execution_count": 78,
      "outputs": [
        {
          "output_type": "execute_result",
          "data": {
            "text/plain": [
              "-2.0000000000000004"
            ]
          },
          "metadata": {
            "tags": []
          },
          "execution_count": 78
        }
      ]
    },
    {
      "cell_type": "code",
      "metadata": {
        "colab": {
          "base_uri": "https://localhost:8080/"
        },
        "id": "khrzyBQVcUUq",
        "outputId": "47d31a62-ff51-4ab1-9b85-97c66d339cf9"
      },
      "source": [
        "np.linalg.inv(A)"
      ],
      "execution_count": 79,
      "outputs": [
        {
          "output_type": "execute_result",
          "data": {
            "text/plain": [
              "array([[-2. ,  1. ],\n",
              "       [ 1.5, -0.5]])"
            ]
          },
          "metadata": {
            "tags": []
          },
          "execution_count": 79
        }
      ]
    },
    {
      "cell_type": "code",
      "metadata": {
        "colab": {
          "base_uri": "https://localhost:8080/"
        },
        "id": "139u0JeMcXaz",
        "outputId": "abd0129c-1c80-41ed-ac29-50645357fd24"
      },
      "source": [
        "np.linalg.inv(A).dot(A)"
      ],
      "execution_count": 80,
      "outputs": [
        {
          "output_type": "execute_result",
          "data": {
            "text/plain": [
              "array([[1.00000000e+00, 0.00000000e+00],\n",
              "       [1.11022302e-16, 1.00000000e+00]])"
            ]
          },
          "metadata": {
            "tags": []
          },
          "execution_count": 80
        }
      ]
    },
    {
      "cell_type": "code",
      "metadata": {
        "colab": {
          "base_uri": "https://localhost:8080/"
        },
        "id": "CaWl8HjKci8K",
        "outputId": "47a201f0-eb1e-4373-a46e-c5b94d531ed8"
      },
      "source": [
        "np.trace(A)"
      ],
      "execution_count": 81,
      "outputs": [
        {
          "output_type": "execute_result",
          "data": {
            "text/plain": [
              "5"
            ]
          },
          "metadata": {
            "tags": []
          },
          "execution_count": 81
        }
      ]
    },
    {
      "cell_type": "code",
      "metadata": {
        "colab": {
          "base_uri": "https://localhost:8080/"
        },
        "id": "muQSLrFUcqIy",
        "outputId": "9732d15b-b84a-4f21-cd33-eedcefb7730f"
      },
      "source": [
        "np.diag(A) # get the diagonal elements of A"
      ],
      "execution_count": 82,
      "outputs": [
        {
          "output_type": "execute_result",
          "data": {
            "text/plain": [
              "array([1, 4])"
            ]
          },
          "metadata": {
            "tags": []
          },
          "execution_count": 82
        }
      ]
    },
    {
      "cell_type": "code",
      "metadata": {
        "colab": {
          "base_uri": "https://localhost:8080/"
        },
        "id": "-qNWFUxfcssM",
        "outputId": "122df197-5561-456c-a005-474662a48860"
      },
      "source": [
        "np.diag([1,4]) # create a diagonal matrix with 1 and 4 on the diagonal"
      ],
      "execution_count": 83,
      "outputs": [
        {
          "output_type": "execute_result",
          "data": {
            "text/plain": [
              "array([[1, 0],\n",
              "       [0, 4]])"
            ]
          },
          "metadata": {
            "tags": []
          },
          "execution_count": 83
        }
      ]
    },
    {
      "cell_type": "code",
      "metadata": {
        "colab": {
          "base_uri": "https://localhost:8080/"
        },
        "id": "1Vc_Qlnic4LE",
        "outputId": "5ae99ff5-e083-4747-c59d-5542bee9f87b"
      },
      "source": [
        "np.linalg.eig(A) # two arrays: eigen values, eigen vectors in a matrix"
      ],
      "execution_count": 84,
      "outputs": [
        {
          "output_type": "execute_result",
          "data": {
            "text/plain": [
              "(array([-0.37228132,  5.37228132]), array([[-0.82456484, -0.41597356],\n",
              "        [ 0.56576746, -0.90937671]]))"
            ]
          },
          "metadata": {
            "tags": []
          },
          "execution_count": 84
        }
      ]
    },
    {
      "cell_type": "code",
      "metadata": {
        "id": "KQ-3QJQXdjC9",
        "outputId": "8a85c792-7fd6-4ee2-a4cc-b8d6ce228334",
        "colab": {
          "base_uri": "https://localhost:8080/"
        }
      },
      "source": [
        "Lam, V = np.linalg.eig(A)"
      ],
      "execution_count": 94,
      "outputs": [
        {
          "output_type": "execute_result",
          "data": {
            "text/plain": [
              "array([[-0.37228132,  0.        ],\n",
              "       [ 0.        ,  5.37228132]])"
            ]
          },
          "metadata": {
            "tags": []
          },
          "execution_count": 94
        }
      ]
    },
    {
      "cell_type": "code",
      "metadata": {
        "id": "Rz_CBkModqC4",
        "outputId": "c0d0a967-caea-4b66-83ec-7194d073d83d",
        "colab": {
          "base_uri": "https://localhost:8080/"
        }
      },
      "source": [
        "V[:,0] * Lam[0] == A @ V[:,0] # eigen vector times eigen value should equal matrix times eigen vector"
      ],
      "execution_count": 86,
      "outputs": [
        {
          "output_type": "execute_result",
          "data": {
            "text/plain": [
              "array([ True, False])"
            ]
          },
          "metadata": {
            "tags": []
          },
          "execution_count": 86
        }
      ]
    },
    {
      "cell_type": "code",
      "metadata": {
        "id": "wuM6pj-Hd01x",
        "outputId": "00cf98d0-83b5-430b-8a10-3e54b251ff95",
        "colab": {
          "base_uri": "https://localhost:8080/"
        }
      },
      "source": [
        "V[:,0] * Lam[0], A @ V[:,0]"
      ],
      "execution_count": 88,
      "outputs": [
        {
          "output_type": "execute_result",
          "data": {
            "text/plain": [
              "(array([ 0.30697009, -0.21062466]), array([ 0.30697009, -0.21062466]))"
            ]
          },
          "metadata": {
            "tags": []
          },
          "execution_count": 88
        }
      ]
    },
    {
      "cell_type": "code",
      "metadata": {
        "id": "Z_qDbiLXd9Z0",
        "outputId": "d9242ffa-5323-4614-9a7c-830d0a4d2c45",
        "colab": {
          "base_uri": "https://localhost:8080/"
        }
      },
      "source": [
        "np.allclose(V[:,0] * Lam[0], A @ V[:,0])"
      ],
      "execution_count": 89,
      "outputs": [
        {
          "output_type": "execute_result",
          "data": {
            "text/plain": [
              "True"
            ]
          },
          "metadata": {
            "tags": []
          },
          "execution_count": 89
        }
      ]
    },
    {
      "cell_type": "code",
      "metadata": {
        "id": "9UsRfOQfeEqw",
        "outputId": "2e499095-87f5-4b65-e14c-cd641636e940",
        "colab": {
          "base_uri": "https://localhost:8080/"
        }
      },
      "source": [
        "np.allclose(V @ np.diag(Lam), A @ V)"
      ],
      "execution_count": 95,
      "outputs": [
        {
          "output_type": "execute_result",
          "data": {
            "text/plain": [
              "True"
            ]
          },
          "metadata": {
            "tags": []
          },
          "execution_count": 95
        }
      ]
    },
    {
      "cell_type": "markdown",
      "metadata": {
        "id": "9AsdYgOkWmx3"
      },
      "source": [
        "# Solving Linear Systems"
      ]
    },
    {
      "cell_type": "markdown",
      "metadata": {
        "id": "j2PpHSkXfkbq"
      },
      "source": [
        "The admission fee at a small fair is \\\\$1.50 for children and \\\\$4.00 for adults. On a certain day, 2200 people enter the fair, and \\\\$5050 is collected. How many children and how many adults attended?\n",
        "\n",
        "\\begin{align}\n",
        "  x_1 + x_2 & = 2200 \\\\\n",
        "  1.5x_1 + 4x_2 & = 5500\n",
        "\\end{align}\n",
        "\n",
        "$$ x = \\left ( \\begin{matrix} x_1 \\\\ x_2 \\end{matrix} \\right ) , \n",
        "A = \\left ( \\begin{matrix} 1 & 1 \\\\ 1.5 & 4 \\end{matrix} \\right ) ,\n",
        "b = \\left ( \\begin{matrix} 2200 \\\\ 5050 \\end{matrix} \\right ) $$\n",
        "\n",
        "$$ Ax = b \\Leftrightarrow x = A^{-1}b $$"
      ]
    },
    {
      "cell_type": "code",
      "metadata": {
        "id": "q6pOZn2Pk-7P"
      },
      "source": [
        "A = np.array([[1,1], [1.5, 4]])\n",
        "b = np.array([2200, 5050])"
      ],
      "execution_count": 100,
      "outputs": []
    },
    {
      "cell_type": "code",
      "metadata": {
        "id": "bKBbQ2Ltj10S",
        "outputId": "d0afdefb-1c37-44f5-ab2d-abab19fb42f3",
        "colab": {
          "base_uri": "https://localhost:8080/"
        }
      },
      "source": [
        "np.linalg.solve(A, b) # faster\n",
        "np.linalg.inv(A).dot(b) # don't use this, it's slower"
      ],
      "execution_count": 101,
      "outputs": [
        {
          "output_type": "execute_result",
          "data": {
            "text/plain": [
              "array([1500.,  700.])"
            ]
          },
          "metadata": {
            "tags": []
          },
          "execution_count": 101
        }
      ]
    },
    {
      "cell_type": "markdown",
      "metadata": {
        "id": "xNdMno4VWokr"
      },
      "source": [
        "# Generating Data"
      ]
    },
    {
      "cell_type": "code",
      "metadata": {
        "id": "FmGbvmdSl3hV",
        "outputId": "2bc42746-ae2e-4af5-cbec-caa6ef012bad",
        "colab": {
          "base_uri": "https://localhost:8080/"
        }
      },
      "source": [
        "np.zeros((2,3))"
      ],
      "execution_count": 102,
      "outputs": [
        {
          "output_type": "execute_result",
          "data": {
            "text/plain": [
              "array([[0., 0., 0.],\n",
              "       [0., 0., 0.]])"
            ]
          },
          "metadata": {
            "tags": []
          },
          "execution_count": 102
        }
      ]
    },
    {
      "cell_type": "code",
      "metadata": {
        "id": "lfQVqhaymDd1",
        "outputId": "d893a076-fae1-4111-c7ba-69436e7bb112",
        "colab": {
          "base_uri": "https://localhost:8080/"
        }
      },
      "source": [
        "np.ones((2,3))"
      ],
      "execution_count": 103,
      "outputs": [
        {
          "output_type": "execute_result",
          "data": {
            "text/plain": [
              "array([[1., 1., 1.],\n",
              "       [1., 1., 1.]])"
            ]
          },
          "metadata": {
            "tags": []
          },
          "execution_count": 103
        }
      ]
    },
    {
      "cell_type": "code",
      "metadata": {
        "id": "xExYDBiXmFV9",
        "outputId": "d663a18a-680c-4ad0-855a-868d111cdae7",
        "colab": {
          "base_uri": "https://localhost:8080/"
        }
      },
      "source": [
        "10 * np.ones((2,3))"
      ],
      "execution_count": 104,
      "outputs": [
        {
          "output_type": "execute_result",
          "data": {
            "text/plain": [
              "array([[10., 10., 10.],\n",
              "       [10., 10., 10.]])"
            ]
          },
          "metadata": {
            "tags": []
          },
          "execution_count": 104
        }
      ]
    },
    {
      "cell_type": "code",
      "metadata": {
        "id": "NA1xzGpZmL4h",
        "outputId": "205684d3-6796-4085-e29b-2a0c81cfea8e",
        "colab": {
          "base_uri": "https://localhost:8080/"
        }
      },
      "source": [
        "np.eye(3)"
      ],
      "execution_count": 105,
      "outputs": [
        {
          "output_type": "execute_result",
          "data": {
            "text/plain": [
              "array([[1., 0., 0.],\n",
              "       [0., 1., 0.],\n",
              "       [0., 0., 1.]])"
            ]
          },
          "metadata": {
            "tags": []
          },
          "execution_count": 105
        }
      ]
    },
    {
      "cell_type": "code",
      "metadata": {
        "id": "ZA0hpAEQmSBl",
        "outputId": "456dc410-8be4-46a5-ba92-543814e2b946",
        "colab": {
          "base_uri": "https://localhost:8080/"
        }
      },
      "source": [
        "np.random.random()"
      ],
      "execution_count": 106,
      "outputs": [
        {
          "output_type": "execute_result",
          "data": {
            "text/plain": [
              "0.43054462933397575"
            ]
          },
          "metadata": {
            "tags": []
          },
          "execution_count": 106
        }
      ]
    },
    {
      "cell_type": "code",
      "metadata": {
        "id": "0-fTkxDFmgqk",
        "outputId": "16cbcef8-4614-438b-c492-3fcb79a50fd1",
        "colab": {
          "base_uri": "https://localhost:8080/"
        }
      },
      "source": [
        "np.random.random((2, 3)) # uniform [0,1] distribution"
      ],
      "execution_count": 107,
      "outputs": [
        {
          "output_type": "execute_result",
          "data": {
            "text/plain": [
              "array([[0.0059372 , 0.29035161, 0.31157017],\n",
              "       [0.71934622, 0.17274325, 0.41302513]])"
            ]
          },
          "metadata": {
            "tags": []
          },
          "execution_count": 107
        }
      ]
    },
    {
      "cell_type": "code",
      "metadata": {
        "id": "gwTek7stmj76",
        "outputId": "72d3ffab-f80d-4409-cd16-74319b19659c",
        "colab": {
          "base_uri": "https://localhost:8080/"
        }
      },
      "source": [
        "np.random.randn(2,3) # gaussian (normal) distribution mean = 0, variance = 1"
      ],
      "execution_count": 110,
      "outputs": [
        {
          "output_type": "execute_result",
          "data": {
            "text/plain": [
              "array([[ 0.50084273,  1.31011758, -1.0498433 ],\n",
              "       [ 1.73265316, -1.37305146, -0.54179276]])"
            ]
          },
          "metadata": {
            "tags": []
          },
          "execution_count": 110
        }
      ]
    },
    {
      "cell_type": "code",
      "metadata": {
        "id": "qSbwgrVAnLBE"
      },
      "source": [
        "R = np.random.randn(10000)"
      ],
      "execution_count": 112,
      "outputs": []
    },
    {
      "cell_type": "code",
      "metadata": {
        "id": "Zjwe2WqLnOlP",
        "outputId": "74814819-8ba8-4d6a-cc4c-f8273142af20",
        "colab": {
          "base_uri": "https://localhost:8080/"
        }
      },
      "source": [
        "R.mean()"
      ],
      "execution_count": 113,
      "outputs": [
        {
          "output_type": "execute_result",
          "data": {
            "text/plain": [
              "0.013716220584741427"
            ]
          },
          "metadata": {
            "tags": []
          },
          "execution_count": 113
        }
      ]
    },
    {
      "cell_type": "code",
      "metadata": {
        "id": "pZUUznTYnSj-",
        "outputId": "01cf298c-a4a0-49e8-d3d3-dd21a455414b",
        "colab": {
          "base_uri": "https://localhost:8080/"
        }
      },
      "source": [
        "np.mean(R)"
      ],
      "execution_count": 114,
      "outputs": [
        {
          "output_type": "execute_result",
          "data": {
            "text/plain": [
              "0.013716220584741427"
            ]
          },
          "metadata": {
            "tags": []
          },
          "execution_count": 114
        }
      ]
    },
    {
      "cell_type": "code",
      "metadata": {
        "id": "HoYdit6FnUZA",
        "outputId": "b4fc922e-6e62-4e80-a619-1bc609494754",
        "colab": {
          "base_uri": "https://localhost:8080/"
        }
      },
      "source": [
        "R.var()"
      ],
      "execution_count": 115,
      "outputs": [
        {
          "output_type": "execute_result",
          "data": {
            "text/plain": [
              "0.9947986995925902"
            ]
          },
          "metadata": {
            "tags": []
          },
          "execution_count": 115
        }
      ]
    },
    {
      "cell_type": "code",
      "metadata": {
        "id": "sEC-nmA6nXHg",
        "outputId": "219c9b3b-0235-4ec2-d9db-ffcd0d5ed65c",
        "colab": {
          "base_uri": "https://localhost:8080/"
        }
      },
      "source": [
        "R.std() # standard deviation is the square root of the variance"
      ],
      "execution_count": 116,
      "outputs": [
        {
          "output_type": "execute_result",
          "data": {
            "text/plain": [
              "0.9973959592822653"
            ]
          },
          "metadata": {
            "tags": []
          },
          "execution_count": 116
        }
      ]
    },
    {
      "cell_type": "code",
      "metadata": {
        "id": "OmdxDnK8ndn6"
      },
      "source": [
        "R = np.random.randn(10000,3)"
      ],
      "execution_count": 120,
      "outputs": []
    },
    {
      "cell_type": "code",
      "metadata": {
        "id": "dng05STdnqnB",
        "outputId": "56c7f3e2-b701-4af4-98ce-694a889f6ded",
        "colab": {
          "base_uri": "https://localhost:8080/"
        }
      },
      "source": [
        "R.mean(axis = 0) # the mean of each column"
      ],
      "execution_count": 121,
      "outputs": [
        {
          "output_type": "execute_result",
          "data": {
            "text/plain": [
              "array([-0.01643795, -0.00137608, -0.00059358])"
            ]
          },
          "metadata": {
            "tags": []
          },
          "execution_count": 121
        }
      ]
    },
    {
      "cell_type": "code",
      "metadata": {
        "id": "_Zhg4gVCn5JI",
        "outputId": "858852d1-de9f-4ec0-e073-eea99c39f962",
        "colab": {
          "base_uri": "https://localhost:8080/"
        }
      },
      "source": [
        "R.mean(axis = 1) # the mean of each row"
      ],
      "execution_count": 122,
      "outputs": [
        {
          "output_type": "execute_result",
          "data": {
            "text/plain": [
              "array([ 1.02765338,  0.00976358, -0.25749441, ...,  0.04328973,\n",
              "       -0.37537898,  0.83809182])"
            ]
          },
          "metadata": {
            "tags": []
          },
          "execution_count": 122
        }
      ]
    },
    {
      "cell_type": "code",
      "metadata": {
        "id": "6orezKACn9Zr",
        "outputId": "02c24a24-d359-44e5-98f4-1cefee1da008",
        "colab": {
          "base_uri": "https://localhost:8080/"
        }
      },
      "source": [
        "R.mean(axis=1).shape"
      ],
      "execution_count": 123,
      "outputs": [
        {
          "output_type": "execute_result",
          "data": {
            "text/plain": [
              "(10000,)"
            ]
          },
          "metadata": {
            "tags": []
          },
          "execution_count": 123
        }
      ]
    },
    {
      "cell_type": "code",
      "metadata": {
        "id": "8Lhh2phlocTq"
      },
      "source": [
        "np.cov(R) # treats each column as a vector observation"
      ],
      "execution_count": null,
      "outputs": []
    },
    {
      "cell_type": "code",
      "metadata": {
        "id": "_FeGD1lDn_7x",
        "outputId": "a69c15f9-8b90-443f-9b8f-745bc0d17933",
        "colab": {
          "base_uri": "https://localhost:8080/"
        }
      },
      "source": [
        "np.cov(R).shape # analog of variance with vectors is covariance"
      ],
      "execution_count": 126,
      "outputs": [
        {
          "output_type": "execute_result",
          "data": {
            "text/plain": [
              "(10000, 10000)"
            ]
          },
          "metadata": {
            "tags": []
          },
          "execution_count": 126
        }
      ]
    },
    {
      "cell_type": "code",
      "metadata": {
        "id": "OoKtyW9ZoiG9",
        "outputId": "161305f0-eb78-441b-8290-7cf9c41488db",
        "colab": {
          "base_uri": "https://localhost:8080/"
        }
      },
      "source": [
        "np.cov(R.T) # take transpose first to treat each row as an observation"
      ],
      "execution_count": 127,
      "outputs": [
        {
          "output_type": "execute_result",
          "data": {
            "text/plain": [
              "array([[ 0.98076511,  0.00407853,  0.00375116],\n",
              "       [ 0.00407853,  1.01678517, -0.00657914],\n",
              "       [ 0.00375116, -0.00657914,  1.00419473]])"
            ]
          },
          "metadata": {
            "tags": []
          },
          "execution_count": 127
        }
      ]
    },
    {
      "cell_type": "code",
      "metadata": {
        "id": "2zf52IKpopl7",
        "outputId": "1cbe3626-ec90-4e45-b6a9-1638fd9c6429",
        "colab": {
          "base_uri": "https://localhost:8080/"
        }
      },
      "source": [
        "np.cov(R, rowvar = False) # passing rowvar = False has same effect as transposing R"
      ],
      "execution_count": 128,
      "outputs": [
        {
          "output_type": "execute_result",
          "data": {
            "text/plain": [
              "array([[ 0.98076511,  0.00407853,  0.00375116],\n",
              "       [ 0.00407853,  1.01678517, -0.00657914],\n",
              "       [ 0.00375116, -0.00657914,  1.00419473]])"
            ]
          },
          "metadata": {
            "tags": []
          },
          "execution_count": 128
        }
      ]
    },
    {
      "cell_type": "code",
      "metadata": {
        "id": "rZC1W-2ro37N",
        "outputId": "d8160d93-cd95-4623-b8d2-6df8c72b5bbe",
        "colab": {
          "base_uri": "https://localhost:8080/"
        }
      },
      "source": [
        "np.random.randint(0,10,size=(3,3))"
      ],
      "execution_count": 129,
      "outputs": [
        {
          "output_type": "execute_result",
          "data": {
            "text/plain": [
              "array([[6, 7, 4],\n",
              "       [9, 4, 1],\n",
              "       [2, 5, 7]])"
            ]
          },
          "metadata": {
            "tags": []
          },
          "execution_count": 129
        }
      ]
    },
    {
      "cell_type": "code",
      "metadata": {
        "id": "6J6RMjWTpBMP",
        "outputId": "bfe78cb6-ad63-411f-c887-68c0561682f3",
        "colab": {
          "base_uri": "https://localhost:8080/"
        }
      },
      "source": [
        "np.random.choice(10, size=(3,3))"
      ],
      "execution_count": 130,
      "outputs": [
        {
          "output_type": "execute_result",
          "data": {
            "text/plain": [
              "array([[4, 6, 6],\n",
              "       [9, 0, 5],\n",
              "       [9, 5, 2]])"
            ]
          },
          "metadata": {
            "tags": []
          },
          "execution_count": 130
        }
      ]
    },
    {
      "cell_type": "markdown",
      "metadata": {
        "id": "MUkAkcsUWp1K"
      },
      "source": [
        "# Numpy Exercise"
      ]
    },
    {
      "cell_type": "markdown",
      "metadata": {
        "id": "OvO_Ugwspa_o"
      },
      "source": [
        "Do a speed test for matrix multiplication"
      ]
    },
    {
      "cell_type": "code",
      "metadata": {
        "id": "yJFgWyqop-0-",
        "outputId": "08dee1b8-212e-42bc-bbe2-7f33833b06b6",
        "colab": {
          "base_uri": "https://localhost:8080/"
        }
      },
      "source": [
        "## speed comparison ##\n",
        "import numpy as np\n",
        "from datetime import datetime\n",
        "\n",
        "# note: you can also use %timeit\n",
        "\n",
        "a = np.random.randint(0,10, size=(3,3))\n",
        "b = np.random.randint(0,10, size=(3,3))\n",
        "T = 100000\n",
        "\n",
        "def list_comp_matrix_multiplication(a, b):\n",
        "  return [[sum([a*b for (a,b) in zip(row, col)]) for col in zip(*b)] for row in a]\n",
        "\n",
        "def for_loop_matrix_multiply(a, b):\n",
        "  result = np.zeros((a.shape[0], b.shape[1]))\n",
        "\n",
        "  for i, row in enumerate(a):\n",
        "    for j, col in enumerate(b.T):\n",
        "      # result[i,j] = slow_dot_product(row, col) #row @ col\n",
        "      result[i, j] = sum([row*col for (row, col) in zip(row,col)])\n",
        "\n",
        "  return result\n",
        "\n",
        "\n",
        "def slow_dot_product(a, b):\n",
        "  result = 0\n",
        "  for e, f in zip(a, b):\n",
        "    result += e*f\n",
        "  return result\n",
        "\n",
        "t0 = datetime.now()\n",
        "for t in range(T):\n",
        "  for_loop_matrix_multiply(a,b)\n",
        "dt1 = datetime.now() - t0\n",
        "\n",
        "t0 = datetime.now()\n",
        "for t in range(T):\n",
        "  a @ b\n",
        "dt2 = datetime.now() - t0\n",
        "\n",
        "print(\"dt1 / dt2:\", dt1.total_seconds() / dt2.total_seconds())\n",
        "a, b, a.dot(b), a @ b, for_loop_matrix_multiply(a, b)"
      ],
      "execution_count": 149,
      "outputs": [
        {
          "output_type": "stream",
          "text": [
            "dt1 / dt2: 28.682467101818563\n"
          ],
          "name": "stdout"
        },
        {
          "output_type": "execute_result",
          "data": {
            "text/plain": [
              "(array([[2, 1, 5],\n",
              "        [7, 8, 0],\n",
              "        [4, 9, 9]]), array([[8, 2, 0],\n",
              "        [9, 2, 2],\n",
              "        [7, 5, 5]]), array([[ 60,  31,  27],\n",
              "        [128,  30,  16],\n",
              "        [176,  71,  63]]), array([[ 60,  31,  27],\n",
              "        [128,  30,  16],\n",
              "        [176,  71,  63]]), array([[ 60.,  31.,  27.],\n",
              "        [128.,  30.,  16.],\n",
              "        [176.,  71.,  63.]]))"
            ]
          },
          "metadata": {
            "tags": []
          },
          "execution_count": 149
        }
      ]
    }
  ]
}